{
 "cells": [
  {
   "cell_type": "markdown",
   "id": "f798464c-5f41-4a02-b09c-701a942ebbc7",
   "metadata": {},
   "source": [
    "https://arxiv.org/pdf/2206.03877.pdf"
   ]
  },
  {
   "cell_type": "code",
   "execution_count": 1,
   "id": "e3fde61b-1809-461c-9a3a-87c9d8ea0be2",
   "metadata": {
    "execution": {
     "iopub.execute_input": "2022-09-25T03:13:25.274585Z",
     "iopub.status.busy": "2022-09-25T03:13:25.274325Z",
     "iopub.status.idle": "2022-09-25T03:13:46.876841Z",
     "shell.execute_reply": "2022-09-25T03:13:46.876188Z",
     "shell.execute_reply.started": "2022-09-25T03:13:25.274517Z"
    },
    "tags": []
   },
   "outputs": [],
   "source": [
    "from scipy.special import kolmogi as ks\n",
    "from scipy.special import kolmogorov"
   ]
  },
  {
   "cell_type": "code",
   "execution_count": 2,
   "id": "64710428-5f4a-4aeb-abc7-2e0786fd6c06",
   "metadata": {
    "execution": {
     "iopub.execute_input": "2022-09-25T03:13:46.878056Z",
     "iopub.status.busy": "2022-09-25T03:13:46.877927Z",
     "iopub.status.idle": "2022-09-25T03:13:58.942329Z",
     "shell.execute_reply": "2022-09-25T03:13:58.941705Z",
     "shell.execute_reply.started": "2022-09-25T03:13:46.878040Z"
    },
    "tags": []
   },
   "outputs": [],
   "source": [
    "import numpy as np\n",
    "import pylab as pl"
   ]
  },
  {
   "cell_type": "code",
   "execution_count": 3,
   "id": "384a8f4d-542c-48d2-a8a6-53285088e4b9",
   "metadata": {
    "execution": {
     "iopub.execute_input": "2022-09-25T03:13:58.943145Z",
     "iopub.status.busy": "2022-09-25T03:13:58.943043Z",
     "iopub.status.idle": "2022-09-25T03:14:29.372219Z",
     "shell.execute_reply": "2022-09-25T03:14:29.371578Z",
     "shell.execute_reply.started": "2022-09-25T03:13:58.943132Z"
    },
    "tags": []
   },
   "outputs": [],
   "source": [
    "import sys\n",
    "# # sys.path.append('/global/cscratch1/sd/jianyao/ForSE/')\n",
    "sys.path.append('/pscratch/sd/j/jianyao/forse_codes/') \n",
    "from forse.tools.nn_tools import *\n",
    "from forse.tools.img_tools import *\n",
    "from forse.tools.mix_tools import *"
   ]
  },
  {
   "cell_type": "code",
   "execution_count": 4,
   "id": "9aacd6c8-703e-4856-b112-39dc76345407",
   "metadata": {
    "execution": {
     "iopub.execute_input": "2022-09-25T03:14:29.373637Z",
     "iopub.status.busy": "2022-09-25T03:14:29.373495Z",
     "iopub.status.idle": "2022-09-25T03:14:46.753604Z",
     "shell.execute_reply": "2022-09-25T03:14:46.752994Z",
     "shell.execute_reply.started": "2022-09-25T03:14:29.373620Z"
    },
    "tags": []
   },
   "outputs": [],
   "source": [
    "import healpy as hp\n",
    "import numpy as np\n",
    "import pysm3.units as u\n",
    "import pysm3"
   ]
  },
  {
   "cell_type": "code",
   "execution_count": 5,
   "id": "0414feeb-0981-4ff7-8e35-938a447a6a29",
   "metadata": {
    "execution": {
     "iopub.execute_input": "2022-09-25T03:14:46.754447Z",
     "iopub.status.busy": "2022-09-25T03:14:46.754335Z",
     "iopub.status.idle": "2022-09-25T03:14:46.758386Z",
     "shell.execute_reply": "2022-09-25T03:14:46.757968Z",
     "shell.execute_reply.started": "2022-09-25T03:14:46.754433Z"
    },
    "tags": []
   },
   "outputs": [],
   "source": [
    "import matplotlib.pyplot as plt\n",
    "%matplotlib inline"
   ]
  },
  {
   "cell_type": "code",
   "execution_count": 6,
   "id": "39d73dd0-ad12-46c2-ab6a-1a9a5c577b2d",
   "metadata": {
    "execution": {
     "iopub.execute_input": "2022-09-25T03:14:46.759173Z",
     "iopub.status.busy": "2022-09-25T03:14:46.759004Z",
     "iopub.status.idle": "2022-09-25T03:15:26.628825Z",
     "shell.execute_reply": "2022-09-25T03:15:26.628197Z",
     "shell.execute_reply.started": "2022-09-25T03:14:46.759157Z"
    },
    "tags": []
   },
   "outputs": [],
   "source": [
    "import matplotlib.pyplot as plt\n",
    "\n",
    "import seaborn as sns\n",
    "\n",
    "sns.set_context(\"talk\")\n",
    "# sns.set()\n",
    "sns.set_style(\"ticks\")"
   ]
  },
  {
   "cell_type": "code",
   "execution_count": 7,
   "id": "cf6f328f-4f1c-4511-a2b6-3e21308631e7",
   "metadata": {
    "execution": {
     "iopub.execute_input": "2022-09-25T03:15:26.629717Z",
     "iopub.status.busy": "2022-09-25T03:15:26.629599Z",
     "iopub.status.idle": "2022-09-25T03:15:26.634180Z",
     "shell.execute_reply": "2022-09-25T03:15:26.633717Z",
     "shell.execute_reply.started": "2022-09-25T03:15:26.629702Z"
    },
    "tags": []
   },
   "outputs": [],
   "source": [
    "def load_full_sky(version = 'v2', ud_grade = True):\n",
    "    \n",
    "    maps_3amin_Q =  hp.read_map('/pscratch/sd/j/jianyao/forse_processed_data/NN_out_Q_3amin_from_20amin_physical_units_full_sky_%s.fits'%version)\n",
    "    maps_3amin_U =  hp.read_map('/pscratch/sd/j/jianyao/forse_processed_data/NN_out_U_3amin_from_20amin_physical_units_full_sky_%s.fits'%version)\n",
    "    \n",
    "    if ud_grade:\n",
    "        maps_3amin_Q =  hp.ud_grade(maps_3amin_Q, nside_out=2048)\n",
    "        maps_3amin_U =  hp.ud_grade(maps_3amin_U, nside_out=2048)\n",
    "        \n",
    "    maps_3amin = np.array((maps_3amin_Q, maps_3amin_U))\n",
    "    del maps_3amin_Q\n",
    "    del maps_3amin_U\n",
    "    \n",
    "    return maps_3amin"
   ]
  },
  {
   "cell_type": "code",
   "execution_count": 8,
   "id": "def562f3-6cdd-4852-a837-d43eb8287e67",
   "metadata": {
    "execution": {
     "iopub.execute_input": "2022-09-25T03:15:26.634950Z",
     "iopub.status.busy": "2022-09-25T03:15:26.634831Z",
     "iopub.status.idle": "2022-09-25T03:15:28.391520Z",
     "shell.execute_reply": "2022-09-25T03:15:28.390901Z",
     "shell.execute_reply.started": "2022-09-25T03:15:26.634936Z"
    },
    "tags": []
   },
   "outputs": [],
   "source": [
    "nnqu = hp.read_map('/global/cfs/cdirs/sobs/www/users/ForSE/fullsky_maps/forse_QU_thermaldust_12amin_2048_v0.fits', field = None)"
   ]
  },
  {
   "cell_type": "code",
   "execution_count": 9,
   "id": "2b66f3de-c2b5-453d-8f32-b631204c5f9d",
   "metadata": {
    "execution": {
     "iopub.execute_input": "2022-09-25T03:15:28.392527Z",
     "iopub.status.busy": "2022-09-25T03:15:28.392387Z",
     "iopub.status.idle": "2022-09-25T03:15:29.954100Z",
     "shell.execute_reply": "2022-09-25T03:15:29.953439Z",
     "shell.execute_reply.started": "2022-09-25T03:15:28.392512Z"
    },
    "tags": []
   },
   "outputs": [],
   "source": [
    "my_gaussian = hp.read_map('/pscratch/sd/j/jianyao/my_dust_with_small_scales.fits', field = None)"
   ]
  },
  {
   "cell_type": "code",
   "execution_count": 10,
   "id": "63ab1b72-627e-42e4-bec0-a17f30354b59",
   "metadata": {
    "execution": {
     "iopub.execute_input": "2022-09-25T03:15:29.955613Z",
     "iopub.status.busy": "2022-09-25T03:15:29.955478Z",
     "iopub.status.idle": "2022-09-25T03:15:29.960670Z",
     "shell.execute_reply": "2022-09-25T03:15:29.960219Z",
     "shell.execute_reply.started": "2022-09-25T03:15:29.955597Z"
    },
    "tags": []
   },
   "outputs": [
    {
     "data": {
      "text/plain": [
       "(3, 50331648)"
      ]
     },
     "execution_count": 10,
     "metadata": {},
     "output_type": "execute_result"
    }
   ],
   "source": [
    "my_gaussian.shape"
   ]
  },
  {
   "cell_type": "code",
   "execution_count": 11,
   "id": "c53787db-f9b2-441c-b8d8-e2de1c2af6ba",
   "metadata": {
    "execution": {
     "iopub.execute_input": "2022-09-25T03:15:29.961348Z",
     "iopub.status.busy": "2022-09-25T03:15:29.961237Z",
     "iopub.status.idle": "2022-09-25T03:15:33.946854Z",
     "shell.execute_reply": "2022-09-25T03:15:33.946242Z",
     "shell.execute_reply.started": "2022-09-25T03:15:29.961334Z"
    },
    "tags": []
   },
   "outputs": [],
   "source": [
    "planck_mask = hp.read_map('/pscratch/sd/j/jianyao/HFI_Mask_GalPlane-apo2_2048_R2.00.fits', field = 1)\n",
    "# 20, 40, 60, 70, 80, 90, 97, and 99% sky coverage; 8 masks in total"
   ]
  },
  {
   "cell_type": "code",
   "execution_count": null,
   "id": "d39ada66-68f1-4c01-a910-c14adc29a138",
   "metadata": {},
   "outputs": [],
   "source": []
  },
  {
   "cell_type": "markdown",
   "id": "33cf6fb8-ad4c-4861-968b-8a001ef85a1a",
   "metadata": {},
   "source": [
    "# Get small scales first!!"
   ]
  },
  {
   "cell_type": "code",
   "execution_count": 12,
   "id": "cac2bb78-db48-4075-843d-620823644552",
   "metadata": {
    "execution": {
     "iopub.execute_input": "2022-09-25T03:20:16.053809Z",
     "iopub.status.busy": "2022-09-25T03:20:16.053560Z",
     "iopub.status.idle": "2022-09-25T03:20:18.015208Z",
     "shell.execute_reply": "2022-09-25T03:20:18.014596Z",
     "shell.execute_reply.started": "2022-09-25T03:20:16.053792Z"
    },
    "tags": []
   },
   "outputs": [],
   "source": [
    "from utilities import get_small_scales"
   ]
  },
  {
   "cell_type": "code",
   "execution_count": 13,
   "id": "51259799-d149-4f26-b59e-4bc9c934df6d",
   "metadata": {
    "execution": {
     "iopub.execute_input": "2022-09-25T03:20:18.016335Z",
     "iopub.status.busy": "2022-09-25T03:20:18.016211Z",
     "iopub.status.idle": "2022-09-25T03:20:18.019457Z",
     "shell.execute_reply": "2022-09-25T03:20:18.018987Z",
     "shell.execute_reply.started": "2022-09-25T03:20:18.016320Z"
    },
    "tags": []
   },
   "outputs": [],
   "source": [
    "lmax = 2048;\n",
    "nside = 2048;\n",
    "comp = \"IQU\"\n",
    "spectra_components = [\"TT\", \"EE\", \"BB\"]\n",
    "ell_fit_high_ss = {\"TT\":400, \"EE\":400, \"BB\":400}  # TT always 400"
   ]
  },
  {
   "cell_type": "code",
   "execution_count": 14,
   "id": "79cff0d7-694f-417c-9a83-8fdd655b45c0",
   "metadata": {
    "execution": {
     "iopub.execute_input": "2022-09-25T03:20:18.020249Z",
     "iopub.status.busy": "2022-09-25T03:20:18.020117Z",
     "iopub.status.idle": "2022-09-25T03:21:31.122823Z",
     "shell.execute_reply": "2022-09-25T03:21:31.122352Z",
     "shell.execute_reply.started": "2022-09-25T03:20:18.020235Z"
    },
    "tags": []
   },
   "outputs": [],
   "source": [
    "maps_forse_12 = np.row_stack((np.ones(12*2048**2), nnqu))\n",
    "ss_forse_12 = get_small_scales(maps_forse_12, lmax, spectra_components, ell_fit_high_ss, nside)\n",
    "\n",
    "maps_forse_3_qu = load_full_sky('v2', ud_grade=True)\n",
    "maps_forse_3 = np.row_stack((np.ones(12*2048**2), maps_forse_3_qu))\n",
    "del maps_forse_3_qu\n",
    "ss_forse_3 = get_small_scales(maps_forse_3, lmax, spectra_components, ell_fit_high_ss, nside)"
   ]
  },
  {
   "cell_type": "code",
   "execution_count": null,
   "id": "ca4ff575-dd0d-42d4-991b-5a1624369869",
   "metadata": {},
   "outputs": [],
   "source": []
  },
  {
   "cell_type": "code",
   "execution_count": 15,
   "id": "fc0658fd-c55c-40ae-8b5b-050444ff9b2b",
   "metadata": {
    "execution": {
     "iopub.execute_input": "2022-09-25T03:21:31.123835Z",
     "iopub.status.busy": "2022-09-25T03:21:31.123702Z",
     "iopub.status.idle": "2022-09-25T03:22:39.384162Z",
     "shell.execute_reply": "2022-09-25T03:22:39.383560Z",
     "shell.execute_reply.started": "2022-09-25T03:21:31.123819Z"
    },
    "tags": []
   },
   "outputs": [],
   "source": [
    "poltens_dust = hp.read_map('/global/cfs/cdirs/cmb/www/pysm-data/dust_gnilc/gnilc_dust_template_galplanefix_nside2048.fits', field = (1,2))\n",
    "poltens_dust = np.row_stack((np.ones(12*2048**2), poltens_dust))\n",
    "poltens_dust <<= u.uK_RJ\n",
    "\n",
    "poltens_dust = poltens_dust.to(\"uK_CMB\", equivalencies=u.cmb_equivalencies(353 * u.GHz))\n",
    "\n",
    "poltens_dust_3 = np.zeros_like(poltens_dust)\n",
    "poltens_dust_3[1] = pysm3.apply_smoothing_and_coord_transform(poltens_dust[1], fwhm=3*u.arcmin) # smooth Q and U maps to 3 arcmin\n",
    "poltens_dust_3[2] = pysm3.apply_smoothing_and_coord_transform(poltens_dust[2], fwhm=3*u.arcmin)\n",
    "\n",
    "\n",
    "ss_poltens = get_small_scales(poltens_dust_3, lmax, spectra_components, ell_fit_high_ss, nside)\n",
    "del poltens_dust"
   ]
  },
  {
   "cell_type": "code",
   "execution_count": 16,
   "id": "284e15e4-01ea-4033-a8b9-867ac52dde8c",
   "metadata": {
    "execution": {
     "iopub.execute_input": "2022-09-25T03:22:39.384959Z",
     "iopub.status.busy": "2022-09-25T03:22:39.384833Z",
     "iopub.status.idle": "2022-09-25T03:23:41.609383Z",
     "shell.execute_reply": "2022-09-25T03:23:41.608893Z",
     "shell.execute_reply.started": "2022-09-25T03:22:39.384943Z"
    },
    "tags": []
   },
   "outputs": [],
   "source": [
    "my_gaussian[1] = pysm3.apply_smoothing_and_coord_transform(my_gaussian[1], fwhm=3*u.arcmin)\n",
    "my_gaussian[2] = pysm3.apply_smoothing_and_coord_transform(my_gaussian[2], fwhm=3*u.arcmin)\n",
    "ss_gaussian = get_small_scales(my_gaussian, lmax, spectra_components, ell_fit_high_ss, nside)"
   ]
  },
  {
   "cell_type": "code",
   "execution_count": 17,
   "id": "81d70660-b224-4a33-b484-09a05c10948c",
   "metadata": {
    "execution": {
     "iopub.execute_input": "2022-09-25T03:23:41.610211Z",
     "iopub.status.busy": "2022-09-25T03:23:41.610079Z",
     "iopub.status.idle": "2022-09-25T03:23:41.613927Z",
     "shell.execute_reply": "2022-09-25T03:23:41.613595Z",
     "shell.execute_reply.started": "2022-09-25T03:23:41.610193Z"
    },
    "tags": []
   },
   "outputs": [
    {
     "data": {
      "text/plain": [
       "2048"
      ]
     },
     "execution_count": 17,
     "metadata": {},
     "output_type": "execute_result"
    }
   ],
   "source": [
    "hp.get_nside(my_gaussian)"
   ]
  },
  {
   "cell_type": "markdown",
   "id": "2e3c049d-5112-440b-95c2-c58f2dd5b523",
   "metadata": {},
   "source": [
    "# Calculate the MFs for the small scales"
   ]
  },
  {
   "cell_type": "code",
   "execution_count": 18,
   "id": "18b04cfe-fe1e-481d-b3f2-5cc6f720b960",
   "metadata": {
    "execution": {
     "iopub.execute_input": "2022-09-25T03:23:41.614839Z",
     "iopub.status.busy": "2022-09-25T03:23:41.614535Z",
     "iopub.status.idle": "2022-09-25T03:23:41.907643Z",
     "shell.execute_reply": "2022-09-25T03:23:41.907257Z",
     "shell.execute_reply.started": "2022-09-25T03:23:41.614820Z"
    },
    "tags": []
   },
   "outputs": [],
   "source": [
    "def get_minkowsky_functionals(imap, lmax, mask = True, \n",
    "                                    sigmarange=[-3, 3], samplesize=256, \n",
    "                                    standardize= True ):\n",
    "    N= imap[mask] .size \n",
    "    nside= hp.get_nside(imap) \n",
    "    sigma= imap[mask] .std() \n",
    "    imap/=sigma \n",
    "    th= pl.linspace(sigmarange[0],sigmarange[1]  , samplesize)\n",
    "    _,dt,dp = hp.alm2map_der1(alm=hp.map2alm(imap,lmax=lmax) , \n",
    "                              nside=nside,lmax=lmax)\n",
    "    _,dtt,dtp = hp.alm2map_der1(alm=hp.map2alm(dt,lmax=lmax) ,\n",
    "                                nside=nside,lmax=lmax)\n",
    "    _,dpt,dpp = hp.alm2map_der1(alm=hp.map2alm(dp,lmax=lmax) , \n",
    "                                nside=nside,lmax=lmax)\n",
    "    \n",
    "    V0 =pl.zeros_like(th)\n",
    "    V1 =pl.zeros_like(th[1:])\n",
    "    V2 =pl.zeros_like(th[1:])\n",
    "    \n",
    "    for i,nuj in enumerate(th)  : \n",
    "        maskTheta= imap[mask] > nuj  \n",
    "        V0[i] = 1./N * imap[mask] [maskTheta].size \n",
    "        \n",
    "        try : \n",
    "            maskDelta= pl.ma.masked_inside( imap[mask] , nuj, th[i+1]  ).mask  \n",
    "        except IndexError: \n",
    "            continue \n",
    "\n",
    "        V1[i] = 1./4/N *  pl.sqrt(dp[mask][maskDelta]**2+ dt[mask][maskDelta]**2 ).sum() \n",
    "        den = dp[mask][maskDelta]**2+ dt[mask][maskDelta]**2\n",
    "        num = (2*dp[mask][maskDelta] * dt[mask][maskDelta] * dpt[mask][maskDelta ] - dp[mask][maskDelta]**2 * dtt[mask][maskDelta] - \n",
    "                dt[mask][maskDelta]**2 * dpp[mask][maskDelta]) \n",
    "\n",
    "        V2[i] = 1./2/pl.pi/N *   (num/den).sum() \n",
    "\n",
    "    return th, V0,V1,V2 "
   ]
  },
  {
   "cell_type": "code",
   "execution_count": 19,
   "id": "4f360dcb-0293-40fb-bf70-b67308db3ea1",
   "metadata": {
    "execution": {
     "iopub.execute_input": "2022-09-25T03:23:41.908722Z",
     "iopub.status.busy": "2022-09-25T03:23:41.908606Z",
     "iopub.status.idle": "2022-09-25T03:23:41.955046Z",
     "shell.execute_reply": "2022-09-25T03:23:41.954695Z",
     "shell.execute_reply.started": "2022-09-25T03:23:41.908708Z"
    },
    "tags": []
   },
   "outputs": [],
   "source": [
    "# Q map first\n",
    "\n",
    "def get_my_full_MFs(qmap, mask, nside, lmax, Np):\n",
    "    \n",
    "    Npixels = len(qmap[mask == 1])\n",
    "    std = qmap[mask == 1].std()\n",
    "    qmap /= std\n",
    "    \n",
    "    alms = hp.map2alm(qmap, lmax = lmax)\n",
    "    results = hp.sphtfunc.alm2map_der1(alms, nside, lmax = lmax)\n",
    "    results[2] = results[2]*np.sin(hp.pix2ang(2048, np.arange(12*2048**2))[0]) \n",
    "\n",
    "    alms_theta = hp.map2alm(results[1], lmax = lmax)\n",
    "    theta_der_der = hp.sphtfunc.alm2map_der1(alms_theta, nside, lmax = lmax)\n",
    "    theta_der_der[2] = theta_der_der[2]*np.sin(hp.pix2ang(2048, np.arange(12*2048**2))[0]) \n",
    "\n",
    "    alms_phi = hp.map2alm(results[2], lmax = lmax)\n",
    "    phi_der_der = hp.sphtfunc.alm2map_der1(alms_phi, nside, lmax = lmax)\n",
    "    phi_der_der[2] = phi_der_der[2]*np.sin(hp.pix2ang(2048, np.arange(12*2048**2))[0]) \n",
    "\n",
    "    rhos = np.linspace(-5, 5, Np)\n",
    "\n",
    "    v0 = []; v1 = []; v2 = []\n",
    "    \n",
    "    qmap_masked = qmap[mask == 1]\n",
    "    bin_index_0 = np.digitize(qmap_masked, rhos)\n",
    "    \n",
    "    theta_masked = results[1][mask == 1];\n",
    "    phi_masked = results[2][mask == 1]; \n",
    "    theta_theta_masked = theta_der_der[1][mask == 1]\n",
    "    theta_phi_masked = theta_der_der[2][mask== 1]\n",
    "    phi_theta_masked = phi_der_der[1][mask== 1]\n",
    "    phi_phi_masked = phi_der_der[2][mask== 1]\n",
    "    \n",
    "    for i in range(Np):\n",
    "        v0.append(np.sum(np.heaviside(qmap_masked - rhos[i], 0))/Npixels)\n",
    "        \n",
    "        if i > 0:\n",
    "        \n",
    "            theta = theta_masked[bin_index_0 == i]\n",
    "            phi  = phi_masked[bin_index_0 == i]\n",
    "            theta_theta = theta_theta_masked[bin_index_0 == i]\n",
    "            theta_phi = theta_phi_masked[bin_index_0 == i]\n",
    "            phi_theta = phi_theta_masked[bin_index_0 == i]\n",
    "            phi_phi= phi_phi_masked[bin_index_0 == i]\n",
    "\n",
    "            v1.append(sum(np.sqrt(theta**2 + phi**2))/Npixels/4)\n",
    "            v2.append(sum((2*theta*phi*phi_theta - phi**2*theta_theta - theta**2*phi_phi)/(theta**2 + phi**2))/Npixels/2/np.pi)          \n",
    "    \n",
    "    return rhos, v0, v1, v2"
   ]
  },
  {
   "cell_type": "code",
   "execution_count": 21,
   "id": "10f59691-dee9-4e15-af09-3f55bb4150e5",
   "metadata": {
    "execution": {
     "iopub.execute_input": "2022-09-25T03:28:38.394692Z",
     "iopub.status.busy": "2022-09-25T03:28:38.394470Z",
     "iopub.status.idle": "2022-09-25T03:28:38.590118Z",
     "shell.execute_reply": "2022-09-25T03:28:38.589628Z",
     "shell.execute_reply.started": "2022-09-25T03:28:38.394673Z"
    },
    "tags": []
   },
   "outputs": [],
   "source": [
    "mask = np.arange(12*2048**2)[planck_mask == 1]\n",
    "# pepe_MF = get_minkowsky_functionals(ss_forse[1], lmax, mask, sigmarange=[-5, 5], samplesize=256)"
   ]
  },
  {
   "cell_type": "code",
   "execution_count": 30,
   "id": "970d9cd7-06b9-4e36-8ab4-cce425035eb8",
   "metadata": {
    "execution": {
     "iopub.execute_input": "2022-09-25T03:44:00.897872Z",
     "iopub.status.busy": "2022-09-25T03:44:00.897663Z",
     "iopub.status.idle": "2022-09-25T03:47:05.615268Z",
     "shell.execute_reply": "2022-09-25T03:47:05.614533Z",
     "shell.execute_reply.started": "2022-09-25T03:44:00.897855Z"
    },
    "tags": []
   },
   "outputs": [],
   "source": [
    "my_MF_12 = get_my_full_MFs(ss_forse_12[1], planck_mask, nside=2048, lmax=lmax, Np= 256)\n",
    "my_MF_3 = get_my_full_MFs(ss_forse_3[1], planck_mask, nside=2048, lmax=lmax, Np= 256)"
   ]
  },
  {
   "cell_type": "code",
   "execution_count": 31,
   "id": "5a385dac-8c32-4bc7-9a29-5bc63af95ce7",
   "metadata": {
    "execution": {
     "iopub.execute_input": "2022-09-25T03:47:05.616606Z",
     "iopub.status.busy": "2022-09-25T03:47:05.616464Z",
     "iopub.status.idle": "2022-09-25T03:48:39.551979Z",
     "shell.execute_reply": "2022-09-25T03:48:39.551307Z",
     "shell.execute_reply.started": "2022-09-25T03:47:05.616591Z"
    },
    "tags": []
   },
   "outputs": [],
   "source": [
    "MF_polten_3 = get_my_full_MFs(ss_poltens[1], planck_mask, nside=2048, lmax=lmax, Np= 256)"
   ]
  },
  {
   "cell_type": "code",
   "execution_count": 32,
   "id": "fcc90f71-2ef8-4bd5-9e4a-279cbab0aa6e",
   "metadata": {
    "execution": {
     "iopub.execute_input": "2022-09-25T03:48:39.553148Z",
     "iopub.status.busy": "2022-09-25T03:48:39.553014Z",
     "iopub.status.idle": "2022-09-25T03:50:08.845710Z",
     "shell.execute_reply": "2022-09-25T03:50:08.845101Z",
     "shell.execute_reply.started": "2022-09-25T03:48:39.553131Z"
    },
    "tags": []
   },
   "outputs": [],
   "source": [
    "MF_gaussian_3 = get_my_full_MFs(ss_gaussian[1], planck_mask, nside=2048, lmax=lmax, Np= 256)"
   ]
  },
  {
   "cell_type": "code",
   "execution_count": 28,
   "id": "8d086c37-c905-497a-9091-2817737851fd",
   "metadata": {
    "execution": {
     "iopub.execute_input": "2022-09-25T03:42:21.273366Z",
     "iopub.status.busy": "2022-09-25T03:42:21.273150Z",
     "iopub.status.idle": "2022-09-25T03:42:21.277504Z",
     "shell.execute_reply": "2022-09-25T03:42:21.277078Z",
     "shell.execute_reply.started": "2022-09-25T03:42:21.273348Z"
    }
   },
   "outputs": [
    {
     "data": {
      "text/plain": [
       "'/global/u2/j/jianyao/foreground_non_gaussianity'"
      ]
     },
     "execution_count": 28,
     "metadata": {},
     "output_type": "execute_result"
    }
   ],
   "source": [
    "pwd"
   ]
  },
  {
   "cell_type": "code",
   "execution_count": 33,
   "id": "c89e02aa-a7e5-48e3-b2b0-3d6fa340d604",
   "metadata": {
    "execution": {
     "iopub.execute_input": "2022-09-25T03:50:08.846848Z",
     "iopub.status.busy": "2022-09-25T03:50:08.846736Z",
     "iopub.status.idle": "2022-09-25T03:50:09.369764Z",
     "shell.execute_reply": "2022-09-25T03:50:09.369265Z",
     "shell.execute_reply.started": "2022-09-25T03:50:08.846834Z"
    },
    "tags": []
   },
   "outputs": [
    {
     "data": {
      "image/png": "[encoded data removed]",
      "text/plain": [
       "<Figure size 2160x504 with 3 Axes>"
      ]
     },
     "metadata": {},
     "output_type": "display_data"
    }
   ],
   "source": [
    "rhos = my_MF_12[0]\n",
    "fig, axes = plt.subplots(1,3,figsize = (30, 7))\n",
    "axes[0].plot(rhos, my_MF_12[1], label = '12 amin')\n",
    "axes[0].plot(rhos, my_MF_3[1], '--', label = '3 amin')\n",
    "axes[0].plot(rhos, MF_polten_3[1], '-', label = 'pol-3 amin')\n",
    "axes[0].plot(rhos, MF_gaussian_3[1], '--', label = 'Gau-3 amin')\n",
    "axes[0].legend(fontsize=20)\n",
    "axes[0].set_xlabel(r'$\\rho$')\n",
    "axes[0].set_ylabel(r'$\\mathcal{V}_0(\\rho$) Q', fontsize=20)\n",
    "\n",
    "axes[1].plot(rhos[0:-1], my_MF_12[2])\n",
    "axes[1].plot(rhos[0:-1], my_MF_3[2], '--')\n",
    "axes[1].plot(rhos[0:-1], MF_polten_3[2], '-')\n",
    "axes[1].plot(rhos[0:-1], MF_gaussian_3[2], '--')\n",
    "axes[1].set_xlabel(r'$\\rho$')\n",
    "axes[1].set_ylabel(r'$\\mathcal{V}_1(\\rho$) Q', fontsize=20)\n",
    "\n",
    "axes[2].plot(rhos[0:-1], my_MF_12[3])\n",
    "axes[2].plot(rhos[0:-1], my_MF_3[3], '--')\n",
    "axes[2].plot(rhos[0:-1], MF_polten_3[3], '-')\n",
    "axes[2].plot(rhos[0:-1], MF_gaussian_3[3], '--')\n",
    "axes[2].set_xlabel(r'$\\rho$')\n",
    "axes[2].set_ylabel(r'$\\mathcal{V}_2(\\rho$) Q', fontsize=20)\n",
    "plt.savefig('/global/homes/j/jianyao/Small_Scale_Foreground/figs/MFs_full_sky_Q.pdf', format = 'pdf')"
   ]
  },
  {
   "cell_type": "code",
   "execution_count": null,
   "id": "c8eed86c-dc2d-4a42-8b0c-a51a807eada2",
   "metadata": {},
   "outputs": [],
   "source": []
  },
  {
   "cell_type": "code",
   "execution_count": null,
   "id": "5da4ce1f-3d39-4177-9332-4b090e695026",
   "metadata": {},
   "outputs": [],
   "source": []
  },
  {
   "cell_type": "markdown",
   "id": "1e02fcdd-2900-4a25-95c5-d10feb92066c",
   "metadata": {},
   "source": [
    "## details"
   ]
  },
  {
   "cell_type": "code",
   "execution_count": 39,
   "id": "b7e58fa7-5429-4a7b-bdd3-36f67a0f06b6",
   "metadata": {
    "execution": {
     "iopub.execute_input": "2022-07-14T20:15:08.298396Z",
     "iopub.status.busy": "2022-07-14T20:15:08.298234Z",
     "iopub.status.idle": "2022-07-14T20:15:28.436100Z",
     "shell.execute_reply": "2022-07-14T20:15:28.435509Z",
     "shell.execute_reply.started": "2022-07-14T20:15:08.298379Z"
    },
    "tags": []
   },
   "outputs": [],
   "source": [
    "Np = 256; \n",
    "# rhos = np.linspace(qmap_rescaled.min(), qmap_rescaled.max(), Np)\n",
    "rhos = np.linspace(-5, 5, Np)\n",
    "\n",
    "v0 = []\n",
    "for i in range(Np):\n",
    "    v0.append(np.sum(np.heaviside(qmap_rescaled[mask] - rhos[i], 0))/Npixels)"
   ]
  },
  {
   "cell_type": "markdown",
   "id": "7e278d7b-7022-4e4d-b938-1cf1d80f37fb",
   "metadata": {},
   "source": [
    "## first der"
   ]
  },
  {
   "cell_type": "code",
   "execution_count": 47,
   "id": "f0fc48c1-9b39-450f-be32-6dce42f89f4d",
   "metadata": {
    "execution": {
     "iopub.execute_input": "2022-07-14T20:21:52.852296Z",
     "iopub.status.busy": "2022-07-14T20:21:52.852143Z",
     "iopub.status.idle": "2022-07-14T20:22:10.566922Z",
     "shell.execute_reply": "2022-07-14T20:22:10.566346Z",
     "shell.execute_reply.started": "2022-07-14T20:21:52.852280Z"
    },
    "tags": []
   },
   "outputs": [],
   "source": [
    "lmax = 2048\n",
    "alms = hp.map2alm(qmap_rescaled, lmax = lmax)\n",
    "results = hp.sphtfunc.alm2map_der1(alms, nside =2048, lmax = lmax)"
   ]
  },
  {
   "cell_type": "code",
   "execution_count": 21,
   "id": "4966ff7e-1915-450d-ad3f-18bd8a0442af",
   "metadata": {
    "execution": {
     "iopub.execute_input": "2022-06-26T22:09:46.297708Z",
     "iopub.status.busy": "2022-06-26T22:09:46.297267Z",
     "iopub.status.idle": "2022-06-26T22:09:49.191823Z",
     "shell.execute_reply": "2022-06-26T22:09:49.190566Z",
     "shell.execute_reply.started": "2022-06-26T22:09:46.297667Z"
    }
   },
   "outputs": [],
   "source": [
    "# results[2] = results[2]*np.sin(hp.pix2ang(2048, np.arange(12*2048**2))[0]) "
   ]
  },
  {
   "cell_type": "markdown",
   "id": "05ba29a8-7016-482d-8f8f-1565f96acd59",
   "metadata": {},
   "source": [
    "# use plt.hist function"
   ]
  },
  {
   "cell_type": "code",
   "execution_count": 64,
   "id": "50937482-71fb-4b05-af79-f51ea3a1373b",
   "metadata": {
    "execution": {
     "iopub.execute_input": "2022-07-14T20:38:30.382750Z",
     "iopub.status.busy": "2022-07-14T20:38:30.382592Z",
     "iopub.status.idle": "2022-07-14T20:38:49.014823Z",
     "shell.execute_reply": "2022-07-14T20:38:49.014213Z",
     "shell.execute_reply.started": "2022-07-14T20:38:30.382733Z"
    },
    "tags": []
   },
   "outputs": [],
   "source": [
    "v1 = []\n",
    "\n",
    "bin_index_0 = np.digitize(qmap_rescaled[mask], rhos)\n",
    "for i in range(1, Np):\n",
    "    # print(i)\n",
    "    # bin_index = bin_index_0 - i \n",
    "    theta = results[1][mask][bin_index_0 == i]\n",
    "    phi  = results[2][mask][bin_index_0 == i]\n",
    "    v1.append(sum(np.sqrt(theta**2 + phi**2))/Npixels/4)"
   ]
  },
  {
   "cell_type": "code",
   "execution_count": 65,
   "id": "f021ea11-e7aa-4d51-9b8a-94c45fc57d29",
   "metadata": {
    "execution": {
     "iopub.execute_input": "2022-07-14T20:38:55.833500Z",
     "iopub.status.busy": "2022-07-14T20:38:55.833351Z",
     "iopub.status.idle": "2022-07-14T20:38:55.836624Z",
     "shell.execute_reply": "2022-07-14T20:38:55.836227Z",
     "shell.execute_reply.started": "2022-07-14T20:38:55.833484Z"
    },
    "tags": []
   },
   "outputs": [
    {
     "data": {
      "text/plain": [
       "0.006801315013108031"
      ]
     },
     "execution_count": 65,
     "metadata": {},
     "output_type": "execute_result"
    }
   ],
   "source": [
    "v1[0]"
   ]
  },
  {
   "cell_type": "code",
   "execution_count": 57,
   "id": "650f053a-5579-4eb4-912e-efb957ab6965",
   "metadata": {
    "execution": {
     "iopub.execute_input": "2022-07-14T20:32:21.550138Z",
     "iopub.status.busy": "2022-07-14T20:32:21.549961Z",
     "iopub.status.idle": "2022-07-14T20:32:21.553573Z",
     "shell.execute_reply": "2022-07-14T20:32:21.553234Z",
     "shell.execute_reply.started": "2022-07-14T20:32:21.550119Z"
    },
    "tags": []
   },
   "outputs": [
    {
     "data": {
      "text/plain": [
       "(8817498,)"
      ]
     },
     "execution_count": 57,
     "metadata": {},
     "output_type": "execute_result"
    }
   ],
   "source": [
    "bin_index_0.shape"
   ]
  },
  {
   "cell_type": "markdown",
   "id": "98778393-6d2c-4b54-bbb9-d8bfaa8b4a14",
   "metadata": {},
   "source": [
    "## second der"
   ]
  },
  {
   "cell_type": "code",
   "execution_count": 69,
   "id": "a87bd30b-5a9d-4dc1-8207-bf793f87f5bc",
   "metadata": {
    "execution": {
     "iopub.execute_input": "2022-07-14T20:42:35.609906Z",
     "iopub.status.busy": "2022-07-14T20:42:35.609693Z",
     "iopub.status.idle": "2022-07-14T20:43:09.895901Z",
     "shell.execute_reply": "2022-07-14T20:43:09.895289Z",
     "shell.execute_reply.started": "2022-07-14T20:42:35.609890Z"
    },
    "tags": []
   },
   "outputs": [],
   "source": [
    "thetas = results[1]\n",
    "phis = results[2]\n",
    "\n",
    "alms_theta = hp.map2alm(thetas, lmax = lmax)\n",
    "theta_der_der = hp.sphtfunc.alm2map_der1(alms_theta, 2048, lmax = lmax)\n",
    "\n",
    "alms_phi = hp.map2alm(phis, lmax = lmax)\n",
    "phi_der_der = hp.sphtfunc.alm2map_der1(alms_phi, 2048, lmax = lmax)"
   ]
  },
  {
   "cell_type": "code",
   "execution_count": null,
   "id": "68fc33f0-e5ff-42bb-959e-89887f43ef90",
   "metadata": {},
   "outputs": [],
   "source": []
  },
  {
   "cell_type": "code",
   "execution_count": 70,
   "id": "d59447d3-562e-4a4c-a369-5c37ce6d87b0",
   "metadata": {
    "execution": {
     "iopub.execute_input": "2022-07-14T20:43:09.896820Z",
     "iopub.status.busy": "2022-07-14T20:43:09.896712Z",
     "iopub.status.idle": "2022-07-14T20:44:00.629397Z",
     "shell.execute_reply": "2022-07-14T20:44:00.628791Z",
     "shell.execute_reply.started": "2022-07-14T20:43:09.896804Z"
    },
    "tags": []
   },
   "outputs": [],
   "source": [
    "v2 = []\n",
    "\n",
    "# bin_index_0 = np.digitize(qmap_rescaled[mask], rhos)\n",
    "for i in range(1, Np):\n",
    "    # print(i)\n",
    "    # bin_index = bin_index_0 - i \n",
    "    theta = results[1][mask][bin_index_0 == i]\n",
    "    phi  = results[2][mask][bin_index_0 == i]\n",
    "    theta_theta = theta_der_der[1][mask][bin_index_0 == i]\n",
    "    theta_phi = theta_der_der[2][mask][bin_index_0 == i]\n",
    "    phi_theta = phi_der_der[1][mask][bin_index_0 == i]\n",
    "    phi_phi= phi_der_der[2][mask][bin_index_0 == i]\n",
    "    \n",
    "    v2.append(sum((2*theta*phi*phi_theta - phi**2*theta_theta - theta**2*phi_phi)/(theta**2 + phi**2))/Npixels/2/np.pi)"
   ]
  },
  {
   "cell_type": "code",
   "execution_count": null,
   "id": "87e7345e-4f90-46e3-bcde-133ca3381d33",
   "metadata": {},
   "outputs": [],
   "source": []
  },
  {
   "cell_type": "code",
   "execution_count": null,
   "id": "e8ce2446-43b8-4f43-95cd-9222b55a18a1",
   "metadata": {},
   "outputs": [],
   "source": []
  },
  {
   "cell_type": "code",
   "execution_count": null,
   "id": "e9e02baa-45f3-47fe-b1ea-3c5a3bb2f784",
   "metadata": {},
   "outputs": [],
   "source": []
  }
 ],
 "metadata": {
  "kernelspec": {
   "display_name": "myTF_GPU_per",
   "language": "python",
   "name": "mytf_gpu_per"
  },
  "language_info": {
   "codemirror_mode": {
    "name": "ipython",
    "version": 3
   },
   "file_extension": ".py",
   "mimetype": "text/x-python",
   "name": "python",
   "nbconvert_exporter": "python",
   "pygments_lexer": "ipython3",
   "version": "3.8.12"
  },
  "toc-autonumbering": true
 },
 "nbformat": 4,
 "nbformat_minor": 5
}
